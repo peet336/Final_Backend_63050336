{
  "nbformat": 4,
  "nbformat_minor": 0,
  "metadata": {
    "colab": {
      "provenance": [],
      "mount_file_id": "1wJHrWpO8hqfqbPt8t7y1257T3jBYndIL",
      "authorship_tag": "ABX9TyPBS8dN2ZreI0IrbUb/IEtg",
      "include_colab_link": true
    },
    "kernelspec": {
      "name": "python3",
      "display_name": "Python 3"
    },
    "language_info": {
      "name": "python"
    }
  },
  "cells": [
    {
      "cell_type": "markdown",
      "metadata": {
        "id": "view-in-github",
        "colab_type": "text"
      },
      "source": [
        "<a href=\"https://colab.research.google.com/github/peet336/product/blob/main/data%E0%B9%80%E0%B8%A3%E0%B8%B5%E0%B8%A2%E0%B8%9A%E0%B8%A3%E0%B9%89%E0%B8%AD%E0%B8%A2.ipynb\" target=\"_parent\"><img src=\"https://colab.research.google.com/assets/colab-badge.svg\" alt=\"Open In Colab\"/></a>"
      ]
    },
    {
      "cell_type": "code",
      "execution_count": 1,
      "metadata": {
        "colab": {
          "base_uri": "https://localhost:8080/",
          "height": 1000
        },
        "id": "90kDTPNmBgUF",
        "outputId": "3ce24415-8d3b-468c-f795-537474e14696"
      },
      "outputs": [
        {
          "output_type": "stream",
          "name": "stdout",
          "text": [
            "Collecting roboflow\n",
            "  Downloading roboflow-1.1.3-py3-none-any.whl (57 kB)\n",
            "\u001b[2K     \u001b[90m━━━━━━━━━━━━━━━━━━━━━━━━━━━━━━━━━━━━━━━━\u001b[0m \u001b[32m57.6/57.6 kB\u001b[0m \u001b[31m1.3 MB/s\u001b[0m eta \u001b[36m0:00:00\u001b[0m\n",
            "\u001b[?25hCollecting certifi==2022.12.7 (from roboflow)\n",
            "  Downloading certifi-2022.12.7-py3-none-any.whl (155 kB)\n",
            "\u001b[2K     \u001b[90m━━━━━━━━━━━━━━━━━━━━━━━━━━━━━━━━━━━━━━━\u001b[0m \u001b[32m155.3/155.3 kB\u001b[0m \u001b[31m6.3 MB/s\u001b[0m eta \u001b[36m0:00:00\u001b[0m\n",
            "\u001b[?25hCollecting chardet==4.0.0 (from roboflow)\n",
            "  Downloading chardet-4.0.0-py2.py3-none-any.whl (178 kB)\n",
            "\u001b[2K     \u001b[90m━━━━━━━━━━━━━━━━━━━━━━━━━━━━━━━━━━━━━━\u001b[0m \u001b[32m178.7/178.7 kB\u001b[0m \u001b[31m20.5 MB/s\u001b[0m eta \u001b[36m0:00:00\u001b[0m\n",
            "\u001b[?25hCollecting cycler==0.10.0 (from roboflow)\n",
            "  Downloading cycler-0.10.0-py2.py3-none-any.whl (6.5 kB)\n",
            "Collecting idna==2.10 (from roboflow)\n",
            "  Downloading idna-2.10-py2.py3-none-any.whl (58 kB)\n",
            "\u001b[2K     \u001b[90m━━━━━━━━━━━━━━━━━━━━━━━━━━━━━━━━━━━━━━━━\u001b[0m \u001b[32m58.8/58.8 kB\u001b[0m \u001b[31m7.9 MB/s\u001b[0m eta \u001b[36m0:00:00\u001b[0m\n",
            "\u001b[?25hRequirement already satisfied: kiwisolver>=1.3.1 in /usr/local/lib/python3.10/dist-packages (from roboflow) (1.4.4)\n",
            "Requirement already satisfied: matplotlib in /usr/local/lib/python3.10/dist-packages (from roboflow) (3.7.1)\n",
            "Requirement already satisfied: numpy>=1.18.5 in /usr/local/lib/python3.10/dist-packages (from roboflow) (1.23.5)\n",
            "Requirement already satisfied: opencv-python>=4.1.2 in /usr/local/lib/python3.10/dist-packages (from roboflow) (4.8.0.76)\n",
            "Requirement already satisfied: Pillow>=7.1.2 in /usr/local/lib/python3.10/dist-packages (from roboflow) (9.4.0)\n",
            "Collecting pyparsing==2.4.7 (from roboflow)\n",
            "  Downloading pyparsing-2.4.7-py2.py3-none-any.whl (67 kB)\n",
            "\u001b[2K     \u001b[90m━━━━━━━━━━━━━━━━━━━━━━━━━━━━━━━━━━━━━━━━\u001b[0m \u001b[32m67.8/67.8 kB\u001b[0m \u001b[31m8.6 MB/s\u001b[0m eta \u001b[36m0:00:00\u001b[0m\n",
            "\u001b[?25hRequirement already satisfied: python-dateutil in /usr/local/lib/python3.10/dist-packages (from roboflow) (2.8.2)\n",
            "Collecting python-dotenv (from roboflow)\n",
            "  Downloading python_dotenv-1.0.0-py3-none-any.whl (19 kB)\n",
            "Requirement already satisfied: requests in /usr/local/lib/python3.10/dist-packages (from roboflow) (2.31.0)\n",
            "Requirement already satisfied: six in /usr/local/lib/python3.10/dist-packages (from roboflow) (1.16.0)\n",
            "Collecting supervision (from roboflow)\n",
            "  Downloading supervision-0.13.0-py3-none-any.whl (59 kB)\n",
            "\u001b[2K     \u001b[90m━━━━━━━━━━━━━━━━━━━━━━━━━━━━━━━━━━━━━━━━\u001b[0m \u001b[32m59.3/59.3 kB\u001b[0m \u001b[31m7.4 MB/s\u001b[0m eta \u001b[36m0:00:00\u001b[0m\n",
            "\u001b[?25hRequirement already satisfied: urllib3>=1.26.6 in /usr/local/lib/python3.10/dist-packages (from roboflow) (2.0.4)\n",
            "Collecting wget (from roboflow)\n",
            "  Downloading wget-3.2.zip (10 kB)\n",
            "  Preparing metadata (setup.py) ... \u001b[?25l\u001b[?25hdone\n",
            "Requirement already satisfied: tqdm>=4.41.0 in /usr/local/lib/python3.10/dist-packages (from roboflow) (4.66.1)\n",
            "Requirement already satisfied: PyYAML>=5.3.1 in /usr/local/lib/python3.10/dist-packages (from roboflow) (6.0.1)\n",
            "Collecting requests-toolbelt (from roboflow)\n",
            "  Downloading requests_toolbelt-1.0.0-py2.py3-none-any.whl (54 kB)\n",
            "\u001b[2K     \u001b[90m━━━━━━━━━━━━━━━━━━━━━━━━━━━━━━━━━━━━━━━━\u001b[0m \u001b[32m54.5/54.5 kB\u001b[0m \u001b[31m6.2 MB/s\u001b[0m eta \u001b[36m0:00:00\u001b[0m\n",
            "\u001b[?25hRequirement already satisfied: contourpy>=1.0.1 in /usr/local/lib/python3.10/dist-packages (from matplotlib->roboflow) (1.1.0)\n",
            "Requirement already satisfied: fonttools>=4.22.0 in /usr/local/lib/python3.10/dist-packages (from matplotlib->roboflow) (4.42.0)\n",
            "Requirement already satisfied: packaging>=20.0 in /usr/local/lib/python3.10/dist-packages (from matplotlib->roboflow) (23.1)\n",
            "Requirement already satisfied: charset-normalizer<4,>=2 in /usr/local/lib/python3.10/dist-packages (from requests->roboflow) (3.2.0)\n",
            "Requirement already satisfied: opencv-python-headless<5.0.0.0,>=4.8.0.74 in /usr/local/lib/python3.10/dist-packages (from supervision->roboflow) (4.8.0.76)\n",
            "Requirement already satisfied: scipy<2.0.0,>=1.9.0 in /usr/local/lib/python3.10/dist-packages (from supervision->roboflow) (1.10.1)\n",
            "Building wheels for collected packages: wget\n",
            "  Building wheel for wget (setup.py) ... \u001b[?25l\u001b[?25hdone\n",
            "  Created wheel for wget: filename=wget-3.2-py3-none-any.whl size=9655 sha256=9a809affe3d5c37b6e4d3bb7521c79ea7e0f60842ce078f484d2196f9efdf104\n",
            "  Stored in directory: /root/.cache/pip/wheels/8b/f1/7f/5c94f0a7a505ca1c81cd1d9208ae2064675d97582078e6c769\n",
            "Successfully built wget\n",
            "Installing collected packages: wget, python-dotenv, pyparsing, idna, cycler, chardet, certifi, supervision, requests-toolbelt, roboflow\n",
            "  Attempting uninstall: pyparsing\n",
            "    Found existing installation: pyparsing 3.1.1\n",
            "    Uninstalling pyparsing-3.1.1:\n",
            "      Successfully uninstalled pyparsing-3.1.1\n",
            "  Attempting uninstall: idna\n",
            "    Found existing installation: idna 3.4\n",
            "    Uninstalling idna-3.4:\n",
            "      Successfully uninstalled idna-3.4\n",
            "  Attempting uninstall: cycler\n",
            "    Found existing installation: cycler 0.11.0\n",
            "    Uninstalling cycler-0.11.0:\n",
            "      Successfully uninstalled cycler-0.11.0\n",
            "  Attempting uninstall: chardet\n",
            "    Found existing installation: chardet 5.2.0\n",
            "    Uninstalling chardet-5.2.0:\n",
            "      Successfully uninstalled chardet-5.2.0\n",
            "  Attempting uninstall: certifi\n",
            "    Found existing installation: certifi 2023.7.22\n",
            "    Uninstalling certifi-2023.7.22:\n",
            "      Successfully uninstalled certifi-2023.7.22\n",
            "Successfully installed certifi-2022.12.7 chardet-4.0.0 cycler-0.10.0 idna-2.10 pyparsing-2.4.7 python-dotenv-1.0.0 requests-toolbelt-1.0.0 roboflow-1.1.3 supervision-0.13.0 wget-3.2\n"
          ]
        },
        {
          "output_type": "display_data",
          "data": {
            "application/vnd.colab-display-data+json": {
              "pip_warning": {
                "packages": [
                  "certifi",
                  "cycler",
                  "pyparsing"
                ]
              }
            }
          },
          "metadata": {}
        },
        {
          "output_type": "stream",
          "name": "stdout",
          "text": [
            "\u001b[31mERROR: Could not find a version that satisfies the requirement roboflow-client (from versions: none)\u001b[0m\u001b[31m\n",
            "\u001b[0m\u001b[31mERROR: No matching distribution found for roboflow-client\u001b[0m\u001b[31m\n",
            "\u001b[0mRequirement already satisfied: requests in /usr/local/lib/python3.10/dist-packages (2.31.0)\n",
            "Requirement already satisfied: charset-normalizer<4,>=2 in /usr/local/lib/python3.10/dist-packages (from requests) (3.2.0)\n",
            "Requirement already satisfied: idna<4,>=2.5 in /usr/local/lib/python3.10/dist-packages (from requests) (2.10)\n",
            "Requirement already satisfied: urllib3<3,>=1.21.1 in /usr/local/lib/python3.10/dist-packages (from requests) (2.0.4)\n",
            "Requirement already satisfied: certifi>=2017.4.17 in /usr/local/lib/python3.10/dist-packages (from requests) (2022.12.7)\n",
            "loading Roboflow workspace...\n",
            "loading Roboflow project...\n",
            "Downloading Dataset Version Zip in Project_01-1 to yolov5pytorch: 100% [4928445 / 4928445] bytes\n"
          ]
        },
        {
          "output_type": "stream",
          "name": "stderr",
          "text": [
            "Extracting Dataset Version Zip to Project_01-1 in yolov5pytorch:: 100%|██████████| 120/120 [00:00<00:00, 2056.37it/s]\n"
          ]
        }
      ],
      "source": [
        "# ติดตั้ง Roboflow API Client\n",
        "!pip install roboflow\n",
        "!pip install roboflow-client wget\n",
        "!pip install requests\n",
        "import shutil\n",
        "import os\n",
        "import zipfile\n",
        "import requests\n",
        "from roboflow import Roboflow\n",
        "rf = Roboflow(api_key=\"MML2ZXiikfWR63n8Psoo\")\n",
        "project = rf.workspace(\"thanakorn-yaibandid-grj4l\").project(\"project_01-achzt\")\n",
        "dataset = project.version(1).download(\"yolov5\")"
      ]
    },
    {
      "cell_type": "code",
      "source": [
        "# ระบุไดเรกทอรีที่คุณต้องการนับไฟล์\n",
        "folder_path = '/content/Project_01-1/train/images'\n",
        "\n",
        "# ใช้ os.listdir เพื่อรับรายชื่อไฟล์และโฟลเดอร์ในไดเรกทอรี\n",
        "file_list = os.listdir(folder_path)\n",
        "\n",
        "# ใช้ลูปเพื่อนับจำนวนไฟล์\n",
        "file_count = 0\n",
        "for item in file_list:\n",
        "    if os.path.isfile(os.path.join(folder_path, item)):  # ตรวจสอบว่าเป็นไฟล์หรือไม่\n",
        "        file_count += 1\n",
        "\n",
        "print(f\"จำนวนไฟล์ในโฟลเดอร์ {folder_path} คือ {file_count} ไฟล์\")"
      ],
      "metadata": {
        "colab": {
          "base_uri": "https://localhost:8080/"
        },
        "id": "d6ZfCY7FBuNg",
        "outputId": "08749748-88b2-4349-f38c-97b668f68d81"
      },
      "execution_count": 2,
      "outputs": [
        {
          "output_type": "stream",
          "name": "stdout",
          "text": [
            "จำนวนไฟล์ในโฟลเดอร์ /content/Project_01-1/train/images คือ 57 ไฟล์\n"
          ]
        }
      ]
    },
    {
      "cell_type": "code",
      "source": [
        "# ระบุโฟลเดอร์ต้นทาง\n",
        "source_folder = '/content/Project_01-1/train/images'\n",
        "\n",
        "# ระบุโฟลเดอร์ปลายทางสำหรับ without-peaks และ with-peaks\n",
        "without_peaks_folder = '/content/drive/MyDrive/project01/EX02No'\n",
        "with_peaks_folder = '/content/drive/MyDrive/project01/EX03Yes'\n",
        "\n",
        "try:\n",
        "    # สร้างโฟลเดอร์ปลายทางสำหรับ without-peaks และ with-peaks\n",
        "    os.makedirs(without_peaks_folder, exist_ok=True)\n",
        "    os.makedirs(with_peaks_folder, exist_ok=True)\n",
        "\n",
        "    # วนลูปผ่านไฟล์ในโฟลเดอร์ต้นทาง\n",
        "    for filename in os.listdir(source_folder):\n",
        "        source_file = os.path.join(source_folder, filename)\n",
        "\n",
        "        # ตรวจสอบชื่อไฟล์และแยกไฟล์ไปยังกลุ่มที่เหมาะสมตามเงื่อนไข\n",
        "        if \"without-peaks\" in filename:\n",
        "            destination_file = os.path.join(without_peaks_folder, filename)\n",
        "        elif \"with-peaks\" in filename:\n",
        "            destination_file = os.path.join(with_peaks_folder, filename)\n",
        "        else:\n",
        "            # สำหรับไฟล์ที่ไม่ตรงกับเงื่อนไขข้างต้น\n",
        "            # คุณสามารถย้ายไปยังโฟลเดอร์อื่นหรือทิ้งไว้ตามความต้องการ\n",
        "            pass\n",
        "\n",
        "        shutil.move(source_file, destination_file)\n",
        "\n",
        "    print(\"การจัดเรียงชื่อไฟล์เสร็จสิ้น\")\n",
        "except Exception as e:\n",
        "    print(f\"เกิดข้อผิดพลาด: {str(e)}\")"
      ],
      "metadata": {
        "colab": {
          "base_uri": "https://localhost:8080/"
        },
        "id": "ZzdVYCy0BzCH",
        "outputId": "6025c73a-80fc-4e82-fcb4-c350391184fb"
      },
      "execution_count": 3,
      "outputs": [
        {
          "output_type": "stream",
          "name": "stdout",
          "text": [
            "การจัดเรียงชื่อไฟล์เสร็จสิ้น\n"
          ]
        }
      ]
    },
    {
      "cell_type": "code",
      "source": [
        "# ระบุโฟลเดอร์ที่คุณต้องการนับไฟล์\n",
        "folder_path = '/content/Project_01-1/train/labels'\n",
        "\n",
        "# กำหนดกลุ่มของไฟล์ที่คุณต้องการนับ\n",
        "group1 = 'without-peaks'\n",
        "group2 = 'with-peaks'\n",
        "\n",
        "try:\n",
        "    # รายชื่อไฟล์ในโฟลเดอร์\n",
        "    files = os.listdir(folder_path)\n",
        "\n",
        "    # นับจำนวนไฟล์ในแต่ละกลุ่ม\n",
        "    count_group1 = sum(1 for filename in files if group1 in filename)\n",
        "    count_group2 = sum(1 for filename in files if group2 in filename)\n",
        "\n",
        "    print(f\"จำนวนไฟล์ในกลุ่ม {group1}: {count_group1} ไฟล์\")\n",
        "    print(f\"จำนวนไฟล์ในกลุ่ม {group2}: {count_group2} ไฟล์\")\n",
        "except Exception as e:\n",
        "    print(f\"เกิดข้อผิดพลาด: {str(e)}\")\n"
      ],
      "metadata": {
        "colab": {
          "base_uri": "https://localhost:8080/"
        },
        "id": "2ySoUI2QB88W",
        "outputId": "294aa1f6-2c39-4044-93cd-14fafd50f63d"
      },
      "execution_count": 4,
      "outputs": [
        {
          "output_type": "stream",
          "name": "stdout",
          "text": [
            "จำนวนไฟล์ในกลุ่ม without-peaks: 27 ไฟล์\n",
            "จำนวนไฟล์ในกลุ่ม with-peaks: 30 ไฟล์\n"
          ]
        }
      ]
    }
  ]
}